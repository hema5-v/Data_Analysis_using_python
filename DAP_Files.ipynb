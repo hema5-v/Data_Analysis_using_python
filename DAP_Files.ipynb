{
  "nbformat": 4,
  "nbformat_minor": 5,
  "metadata": {
    "kernelspec": {
      "display_name": "Python 3",
      "language": "python",
      "name": "python3"
    },
    "language_info": {
      "codemirror_mode": {
        "name": "ipython",
        "version": 3
      },
      "file_extension": ".py",
      "mimetype": "text/x-python",
      "name": "python",
      "nbconvert_exporter": "python",
      "pygments_lexer": "ipython3",
      "version": "3.8.8"
    },
    "colab": {
      "name": "hem files 4.ipynb",
      "provenance": []
    }
  },
  "cells": [
    {
      "cell_type": "code",
      "metadata": {
        "id": "7a686dff",
        "outputId": "bec93ee6-a18d-40fa-d49e-334b3a56c529"
      },
      "source": [
        "print (\"Python is really a great language,\", \"isn't it?\")"
      ],
      "id": "7a686dff",
      "execution_count": null,
      "outputs": [
        {
          "name": "stdout",
          "output_type": "stream",
          "text": [
            "Python is really a great language, isn't it?\n"
          ]
        }
      ]
    },
    {
      "cell_type": "code",
      "metadata": {
        "id": "29cbb707",
        "outputId": "63a6743c-8ae8-4e23-9604-0ef9c0b7fcb9"
      },
      "source": [
        "str = input(\"Enter your input: \")\n",
        "print (\"Received input is : \", str)"
      ],
      "id": "29cbb707",
      "execution_count": null,
      "outputs": [
        {
          "name": "stdout",
          "output_type": "stream",
          "text": [
            "Enter your input: hey im hema\n",
            "Received input is :  hey im hema\n"
          ]
        }
      ]
    },
    {
      "cell_type": "code",
      "metadata": {
        "id": "ed4e0a41",
        "outputId": "5856b8fb-845d-48e2-c7c3-230bd56766ac"
      },
      "source": [
        "# Open a file\n",
        "fo = open(\"cse7sem.txt\", \"wb\")\n",
        "print (\"Name of the file: \", fo.name)\n",
        "\n",
        "# Close opend file\n",
        "fo.close()\n"
      ],
      "id": "ed4e0a41",
      "execution_count": null,
      "outputs": [
        {
          "name": "stdout",
          "output_type": "stream",
          "text": [
            "Name of the file:  cse7sem.txt\n"
          ]
        }
      ]
    },
    {
      "cell_type": "code",
      "metadata": {
        "id": "3b8ed8f5",
        "outputId": "3bea3a92-1dbd-405a-d08e-fa1ef7859276"
      },
      "source": [
        "# Open a file\n",
        "fo = open(\"cse7sem.txt\", \"r+\")\n",
        "str = fo.read(10);\n",
        "print (\"Read String is : \", str)\n",
        "# Close opend file\n",
        "fo.close()"
      ],
      "id": "3b8ed8f5",
      "execution_count": null,
      "outputs": [
        {
          "name": "stdout",
          "output_type": "stream",
          "text": [
            "Read String is :  \n"
          ]
        }
      ]
    },
    {
      "cell_type": "code",
      "metadata": {
        "id": "8b457a3f",
        "outputId": "b2d60ae1-4730-4e13-a8ae-30133948f8b2"
      },
      "source": [
        "# Open a file\n",
        "fo = open(\"cse7sem.txt\", \"r+\")\n",
        "str = fo.read(10);\n",
        "print (\"Read String is : \", str)\n",
        "# Close opend file\n",
        "fo.close()"
      ],
      "id": "8b457a3f",
      "execution_count": null,
      "outputs": [
        {
          "name": "stdout",
          "output_type": "stream",
          "text": [
            "Read String is :  \n"
          ]
        }
      ]
    },
    {
      "cell_type": "code",
      "metadata": {
        "id": "19e3961d",
        "outputId": "65198efe-28f6-4f43-c0dc-749d9f5fe3c6"
      },
      "source": [
        "fo = open(\"cse7sem.txt\", \"wb\")\n",
        "print (\"Name of the file: \", fo.name)\n",
        "print (\"Closed or not : \", fo.closed)\n",
        "print (\"Opening mode : \", fo.mode)"
      ],
      "id": "19e3961d",
      "execution_count": null,
      "outputs": [
        {
          "name": "stdout",
          "output_type": "stream",
          "text": [
            "Name of the file:  cse7sem.txt\n",
            "Closed or not :  False\n",
            "Opening mode :  wb\n"
          ]
        }
      ]
    },
    {
      "cell_type": "code",
      "metadata": {
        "id": "9ff619d2",
        "outputId": "e7a548f6-c9df-4d5f-a7f8-f5cf24c53399"
      },
      "source": [
        "fo = open(\"cse7sem.txt\", \"wb\")\n",
        "print (\"Name of the file: \", fo.name)\n",
        "print (\"Closed or not : \", fo.closed)\n",
        "print (\"Opening mode : \", fo.mode)"
      ],
      "id": "9ff619d2",
      "execution_count": null,
      "outputs": [
        {
          "name": "stdout",
          "output_type": "stream",
          "text": [
            "Name of the file:  cse7sem.txt\n",
            "Closed or not :  False\n",
            "Opening mode :  wb\n"
          ]
        }
      ]
    },
    {
      "cell_type": "code",
      "metadata": {
        "id": "dfba9f33"
      },
      "source": [
        ""
      ],
      "id": "dfba9f33",
      "execution_count": null,
      "outputs": []
    }
  ]
}