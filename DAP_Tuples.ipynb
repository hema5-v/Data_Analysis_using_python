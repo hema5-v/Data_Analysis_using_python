{
  "nbformat": 4,
  "nbformat_minor": 5,
  "metadata": {
    "kernelspec": {
      "display_name": "Python 3",
      "language": "python",
      "name": "python3"
    },
    "language_info": {
      "codemirror_mode": {
        "name": "ipython",
        "version": 3
      },
      "file_extension": ".py",
      "mimetype": "text/x-python",
      "name": "python",
      "nbconvert_exporter": "python",
      "pygments_lexer": "ipython3",
      "version": "3.8.8"
    },
    "colab": {
      "name": "dap hem lab tup 4.ipynb",
      "provenance": []
    }
  },
  "cells": [
    {
      "cell_type": "code",
      "metadata": {
        "id": "7d6adf41",
        "outputId": "db9c65fe-6c5e-4601-a596-474e7c829ffe"
      },
      "source": [
        "tup= ('cse','it','mech')\n",
        "print(tup)\n",
        "tup1=(1,23,4,5,5,6)\n",
        "print(tup1)\n",
        "tup2=\"hema\",\"sia\"\n",
        "print(tup2)"
      ],
      "id": "7d6adf41",
      "execution_count": null,
      "outputs": [
        {
          "name": "stdout",
          "output_type": "stream",
          "text": [
            "('cse', 'it', 'mech')\n",
            "(1, 23, 4, 5, 5, 6)\n",
            "('hema', 'sia')\n"
          ]
        }
      ]
    },
    {
      "cell_type": "code",
      "metadata": {
        "id": "7f33f1d5",
        "outputId": "d1394866-0621-4923-c980-e2f96f81e526"
      },
      "source": [
        "tup1 = ()\n",
        "print(tup1)\n"
      ],
      "id": "7f33f1d5",
      "execution_count": null,
      "outputs": [
        {
          "name": "stdout",
          "output_type": "stream",
          "text": [
            "()\n"
          ]
        }
      ]
    },
    {
      "cell_type": "code",
      "metadata": {
        "id": "c0b442c0",
        "outputId": "7713085f-5303-4b1a-fdd8-6ab103fe78ec"
      },
      "source": [
        "tup1 = (78)\n",
        "print(tup1)"
      ],
      "id": "c0b442c0",
      "execution_count": null,
      "outputs": [
        {
          "name": "stdout",
          "output_type": "stream",
          "text": [
            "78\n"
          ]
        }
      ]
    },
    {
      "cell_type": "code",
      "metadata": {
        "id": "83af416a",
        "outputId": "11f6801d-471e-4b00-dd96-c8d6933c3f50"
      },
      "source": [
        "tup= ('cse','it','mech','ece','electrical','civil')\n",
        "print(tup[0])\n",
        "print(tup[2])\n",
        "print(tup[2:5])"
      ],
      "id": "83af416a",
      "execution_count": null,
      "outputs": [
        {
          "name": "stdout",
          "output_type": "stream",
          "text": [
            "cse\n",
            "mech\n",
            "('mech', 'ece', 'electrical')\n"
          ]
        }
      ]
    },
    {
      "cell_type": "code",
      "metadata": {
        "id": "0fb577d2",
        "outputId": "17b9384b-8f1c-4c48-db7c-c5886be761ce"
      },
      "source": [
        "tup1= ('cse','it','mech','ece','electrical')\n",
        "print(tup1)\n",
        "\n",
        "del(tup1)\n",
        "print(tup1)\n"
      ],
      "id": "0fb577d2",
      "execution_count": null,
      "outputs": [
        {
          "name": "stdout",
          "output_type": "stream",
          "text": [
            "('cse', 'it', 'mech', 'ece', 'electrical')\n"
          ]
        },
        {
          "ename": "NameError",
          "evalue": "name 'tup1' is not defined",
          "output_type": "error",
          "traceback": [
            "\u001b[1;31m---------------------------------------------------------------------------\u001b[0m",
            "\u001b[1;31mNameError\u001b[0m                                 Traceback (most recent call last)",
            "\u001b[1;32m<ipython-input-5-f0e3be02146e>\u001b[0m in \u001b[0;36m<module>\u001b[1;34m\u001b[0m\n\u001b[0;32m      3\u001b[0m \u001b[1;33m\u001b[0m\u001b[0m\n\u001b[0;32m      4\u001b[0m \u001b[1;32mdel\u001b[0m\u001b[1;33m(\u001b[0m\u001b[0mtup1\u001b[0m\u001b[1;33m)\u001b[0m\u001b[1;33m\u001b[0m\u001b[1;33m\u001b[0m\u001b[0m\n\u001b[1;32m----> 5\u001b[1;33m \u001b[0mprint\u001b[0m\u001b[1;33m(\u001b[0m\u001b[0mtup1\u001b[0m\u001b[1;33m)\u001b[0m\u001b[1;33m\u001b[0m\u001b[1;33m\u001b[0m\u001b[0m\n\u001b[0m",
            "\u001b[1;31mNameError\u001b[0m: name 'tup1' is not defined"
          ]
        }
      ]
    },
    {
      "cell_type": "code",
      "metadata": {
        "id": "32fbd0d9",
        "outputId": "a3cf71c3-6eed-472a-dd5a-ce3748ea4fb8"
      },
      "source": [
        "tup1= ('cse','it','mech','ece','electrical')\n",
        "print(tup1)\n",
        "tup2= ('Hema','Anshu','Rony')\n",
        "print(tup2)\n",
        "\n",
        "\n",
        "tup3=tup1+tup2\n",
        "print(tup3)"
      ],
      "id": "32fbd0d9",
      "execution_count": null,
      "outputs": [
        {
          "name": "stdout",
          "output_type": "stream",
          "text": [
            "('cse', 'it', 'mech', 'ece', 'electrical')\n",
            "('Hema', 'Anshu', 'Rony')\n",
            "('cse', 'it', 'mech', 'ece', 'electrical', 'Hema', 'Anshu', 'Rony')\n"
          ]
        }
      ]
    },
    {
      "cell_type": "code",
      "metadata": {
        "id": "e027302c",
        "outputId": "8ff04382-a560-41c5-9f22-aecaa20c703a"
      },
      "source": [
        "tup1= ('cse','it','mech','ece','electrical')\n",
        "print(tup1)\n",
        "\n",
        "print(\"value at 3rd loc= \",tup1[3])\n",
        "\n",
        "tup1[3]=\"Hema\" #not allowed\n",
        "print(\"UPDATED value at 3rd loc= \",tup1[3])"
      ],
      "id": "e027302c",
      "execution_count": null,
      "outputs": [
        {
          "name": "stdout",
          "output_type": "stream",
          "text": [
            "('cse', 'it', 'mech', 'ece', 'electrical')\n",
            "value at 3rd loc=  ece\n"
          ]
        },
        {
          "ename": "TypeError",
          "evalue": "'tuple' object does not support item assignment",
          "output_type": "error",
          "traceback": [
            "\u001b[1;31m---------------------------------------------------------------------------\u001b[0m",
            "\u001b[1;31mTypeError\u001b[0m                                 Traceback (most recent call last)",
            "\u001b[1;32m<ipython-input-13-85644e4dbfe3>\u001b[0m in \u001b[0;36m<module>\u001b[1;34m\u001b[0m\n\u001b[0;32m      4\u001b[0m \u001b[0mprint\u001b[0m\u001b[1;33m(\u001b[0m\u001b[1;34m\"value at 3rd loc= \"\u001b[0m\u001b[1;33m,\u001b[0m\u001b[0mtup1\u001b[0m\u001b[1;33m[\u001b[0m\u001b[1;36m3\u001b[0m\u001b[1;33m]\u001b[0m\u001b[1;33m)\u001b[0m\u001b[1;33m\u001b[0m\u001b[1;33m\u001b[0m\u001b[0m\n\u001b[0;32m      5\u001b[0m \u001b[1;33m\u001b[0m\u001b[0m\n\u001b[1;32m----> 6\u001b[1;33m \u001b[0mtup1\u001b[0m\u001b[1;33m[\u001b[0m\u001b[1;36m3\u001b[0m\u001b[1;33m]\u001b[0m\u001b[1;33m=\u001b[0m\u001b[1;34m\"Hema\"\u001b[0m \u001b[1;31m#not allowed\u001b[0m\u001b[1;33m\u001b[0m\u001b[1;33m\u001b[0m\u001b[0m\n\u001b[0m\u001b[0;32m      7\u001b[0m \u001b[0mprint\u001b[0m\u001b[1;33m(\u001b[0m\u001b[1;34m\"UPDATED value at 3rd loc= \"\u001b[0m\u001b[1;33m,\u001b[0m\u001b[0mtup1\u001b[0m\u001b[1;33m[\u001b[0m\u001b[1;36m3\u001b[0m\u001b[1;33m]\u001b[0m\u001b[1;33m)\u001b[0m\u001b[1;33m\u001b[0m\u001b[1;33m\u001b[0m\u001b[0m\n",
            "\u001b[1;31mTypeError\u001b[0m: 'tuple' object does not support item assignment"
          ]
        }
      ]
    },
    {
      "cell_type": "code",
      "metadata": {
        "id": "1c22219c",
        "outputId": "784db0f3-8444-4830-ae44-52fd0fad07bf"
      },
      "source": [
        "tup1= ('cse','it','mech','ece','electrical')\n",
        "print(tup1)\n",
        "tup2= ('Hema','Anshu','Rony')\n",
        "print(tup2)\n",
        "a=len(tup1)\n",
        "b=len(tup2)\n",
        "print(a)\n",
        "print(b)\n",
        "\n",
        "print(len(tup1))\n"
      ],
      "id": "1c22219c",
      "execution_count": null,
      "outputs": [
        {
          "name": "stdout",
          "output_type": "stream",
          "text": [
            "('cse', 'it', 'mech', 'ece', 'electrical')\n",
            "('Hema', 'Anshu', 'Rony')\n",
            "5\n",
            "3\n",
            "5\n"
          ]
        }
      ]
    },
    {
      "cell_type": "code",
      "metadata": {
        "id": "62b1ea78",
        "outputId": "146a7536-8131-4085-9777-c4f90de4787a"
      },
      "source": [
        "tup1= ('cse','it','mech','ece','electrical')\n",
        "print(tup1)\n",
        "tup2= ('Hema','Anshu','Rony')\n",
        "print(tup2)\n",
        "\n",
        "\n",
        "print(max(tup1))"
      ],
      "id": "62b1ea78",
      "execution_count": null,
      "outputs": [
        {
          "name": "stdout",
          "output_type": "stream",
          "text": [
            "('cse', 'it', 'mech', 'ece', 'electrical')\n",
            "('Hema', 'Anshu', 'Rony')\n",
            "mech\n"
          ]
        }
      ]
    },
    {
      "cell_type": "code",
      "metadata": {
        "id": "72b7162c"
      },
      "source": [
        ""
      ],
      "id": "72b7162c",
      "execution_count": null,
      "outputs": []
    }
  ]
}