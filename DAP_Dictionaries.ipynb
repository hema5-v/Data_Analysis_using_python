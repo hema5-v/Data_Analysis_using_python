{
  "nbformat": 4,
  "nbformat_minor": 5,
  "metadata": {
    "kernelspec": {
      "display_name": "Python 3",
      "language": "python",
      "name": "python3"
    },
    "language_info": {
      "codemirror_mode": {
        "name": "ipython",
        "version": 3
      },
      "file_extension": ".py",
      "mimetype": "text/x-python",
      "name": "python",
      "nbconvert_exporter": "python",
      "pygments_lexer": "ipython3",
      "version": "3.8.8"
    },
    "colab": {
      "name": "dap lab hem dict4.ipynb",
      "provenance": []
    }
  },
  "cells": [
    {
      "cell_type": "code",
      "metadata": {
        "id": "f4b2fa64",
        "outputId": "248d6a39-2540-4ef9-e9c2-ead5ce61db70"
      },
      "source": [
        "dict={'name':'Hema','designation':'Student','qual':'Btech','univ':'cmr'}\n",
        "print(dict['name'])\n",
        "   \n",
        "print(dict['qual'])"
      ],
      "id": "f4b2fa64",
      "execution_count": null,
      "outputs": [
        {
          "name": "stdout",
          "output_type": "stream",
          "text": [
            "Hema\n",
            "Btech\n"
          ]
        }
      ]
    },
    {
      "cell_type": "code",
      "metadata": {
        "id": "fbec2225",
        "outputId": "21bb198e-ee9b-46ce-bd7c-8d9ee2ef4613"
      },
      "source": [
        "dict={'name':'sia','designation':'student','qual':'student','univ':'cmr'}\n",
        "dict['name']='Hema'\n",
        "    \n",
        "print(dict['name'])\n",
        "\n",
        "dict['class']='cse7sem'\n",
        "    \n",
        "print(dict['class'])"
      ],
      "id": "fbec2225",
      "execution_count": null,
      "outputs": [
        {
          "name": "stdout",
          "output_type": "stream",
          "text": [
            "Hema\n",
            "cse7sem\n"
          ]
        }
      ]
    },
    {
      "cell_type": "code",
      "metadata": {
        "id": "a596ef84",
        "outputId": "b5fce2dd-e7ea-4cb6-aa4c-68b59079fc3f"
      },
      "source": [
        "dict={'name':'HEMA','designation':'Student','qual':'btech','univ':'cmr'}\n",
        "  \n",
        "print(dict['designation'])\n",
        "  \n",
        "#dict.clear()\n",
        "  \n",
        "print(dict['name'])\n",
        "    \n",
        "del dict"
      ],
      "id": "a596ef84",
      "execution_count": null,
      "outputs": [
        {
          "name": "stdout",
          "output_type": "stream",
          "text": [
            "Student\n",
            "HEMA\n"
          ]
        }
      ]
    },
    {
      "cell_type": "code",
      "metadata": {
        "id": "41307b19",
        "outputId": "4d6b9647-a95b-4d56-c65e-47da0b70b91d"
      },
      "source": [
        "dict = {\n",
        "  \"name\": \"Hema\",\n",
        "  \"designation\": \"Student\",\n",
        "  \"qual\": \"btech\",\n",
        "  \"year\": 2021,\n",
        "  \"name\": \"Riya\",\n",
        "}\n",
        "print(dict['name'])\n",
        "print(len(dict))"
      ],
      "id": "41307b19",
      "execution_count": null,
      "outputs": [
        {
          "name": "stdout",
          "output_type": "stream",
          "text": [
            "Riya\n",
            "4\n"
          ]
        }
      ]
    },
    {
      "cell_type": "code",
      "metadata": {
        "id": "88a74b86",
        "outputId": "0ae83261-5084-4351-b7aa-4ff0006525d3"
      },
      "source": [
        "dict={'name':'Anii','designation':'student','qual':'btech','univ':'cmr', 'name':'Hema'}\n",
        "    \n",
        "    \n",
        "print(dict.values())\n",
        "print(dict.items())\n",
        "  \n",
        "print(dict.keys())"
      ],
      "id": "88a74b86",
      "execution_count": null,
      "outputs": [
        {
          "name": "stdout",
          "output_type": "stream",
          "text": [
            "dict_values(['Hema', 'student', 'btech', 'cmr'])\n",
            "dict_items([('name', 'Hema'), ('designation', 'student'), ('qual', 'btech'), ('univ', 'cmr')])\n",
            "dict_keys(['name', 'designation', 'qual', 'univ'])\n"
          ]
        }
      ]
    },
    {
      "cell_type": "code",
      "metadata": {
        "id": "fb7d6226",
        "outputId": "ff6a74b5-4687-427b-c6a5-994e61086768"
      },
      "source": [
        "dict={'name':'anii','designation':'AsP','qual':'phd','univ':'cmr', 'name':'Hema'}\n",
        "    \n",
        "print(dict['name'])\n",
        "    \n",
        "print(dict.get('edu',\"btech\"))"
      ],
      "id": "fb7d6226",
      "execution_count": null,
      "outputs": [
        {
          "name": "stdout",
          "output_type": "stream",
          "text": [
            "Hema\n",
            "btech\n"
          ]
        }
      ]
    },
    {
      "cell_type": "code",
      "metadata": {
        "id": "f3487c40",
        "outputId": "c88e03dc-3d47-403f-9dc8-f86f3a026026"
      },
      "source": [
        "dict={'name':'Anii','designation':'AsP','qual':'phd','univ':'cmr', 'name':'Hema'}\n",
        "  \n",
        "dict2=dict.copy()\n",
        "    \n",
        "print(dict2['name'])\n",
        "  \n",
        "print(len(dict2))"
      ],
      "id": "f3487c40",
      "execution_count": null,
      "outputs": [
        {
          "name": "stdout",
          "output_type": "stream",
          "text": [
            "Hema\n",
            "4\n"
          ]
        }
      ]
    },
    {
      "cell_type": "code",
      "metadata": {
        "id": "b28e69af",
        "outputId": "dae9ce9f-43c3-4670-fc87-c020997b6962"
      },
      "source": [
        "dict={'name':'Anii','designation':'AsP','qual':'phd','univ':'cmr', 'name':'Hema'}\n",
        "dict2={'education':'btech','branch':'7sem A'}\n",
        "print(dict)\n",
        "print(dict2)\n",
        "  \n",
        "dict.update(dict2)\n",
        "    \n",
        "print(dict)"
      ],
      "id": "b28e69af",
      "execution_count": null,
      "outputs": [
        {
          "name": "stdout",
          "output_type": "stream",
          "text": [
            "{'name': 'Hema', 'designation': 'AsP', 'qual': 'phd', 'univ': 'cmr'}\n",
            "{'education': 'btech', 'branch': '7sem A'}\n",
            "{'name': 'Hema', 'designation': 'AsP', 'qual': 'phd', 'univ': 'cmr', 'education': 'btech', 'branch': '7sem A'}\n"
          ]
        }
      ]
    },
    {
      "cell_type": "code",
      "metadata": {
        "id": "fa934863"
      },
      "source": [
        ""
      ],
      "id": "fa934863",
      "execution_count": null,
      "outputs": []
    }
  ]
}