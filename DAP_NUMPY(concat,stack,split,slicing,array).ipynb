{
  "nbformat": 4,
  "nbformat_minor": 0,
  "metadata": {
    "colab": {
      "name": "DAP_NUMPY(concat,stack,split,slicing,array).ipynb",
      "provenance": []
    },
    "kernelspec": {
      "name": "python3",
      "display_name": "Python 3"
    },
    "language_info": {
      "name": "python"
    }
  },
  "cells": [
    {
      "cell_type": "code",
      "metadata": {
        "colab": {
          "base_uri": "https://localhost:8080/"
        },
        "id": "Ybcx4qI996S2",
        "outputId": "0d1013a3-43ba-47af-b759-0b978b1f733d"
      },
      "source": [
        "#numpy concat, stack\n",
        "\n",
        "import numpy as np\n",
        "\n",
        "arr1 = np.array([1, 2, 3])\n",
        "\n",
        "arr2 = np.array([4, 5, 6])\n",
        "\n",
        "arr = np.concatenate((arr1, arr2))\n",
        "\n",
        "print(arr) \n"
      ],
      "execution_count": 1,
      "outputs": [
        {
          "output_type": "stream",
          "name": "stdout",
          "text": [
            "[1 2 3 4 5 6]\n"
          ]
        }
      ]
    },
    {
      "cell_type": "code",
      "metadata": {
        "colab": {
          "base_uri": "https://localhost:8080/"
        },
        "id": "sVlRxRxu-Fda",
        "outputId": "eb5ea0b8-6a21-4d61-f6b3-56f228edf0ed"
      },
      "source": [
        "import numpy as np\n",
        "\n",
        "arr1 = np.array([[1, 2], [3, 4]])\n",
        "\n",
        "print(\"arr1=\", arr1) \n",
        "\n",
        "arr2 = np.array([[5, 6], [7, 8]])\n",
        "\n",
        "print(\"arr2=\", arr2) \n",
        "\n",
        "print(\"after concatenation =\")\n",
        "\n",
        "arr = np.concatenate((arr1, arr2), axis=1) #0=row, 1=col\n",
        "\n",
        "print(arr) "
      ],
      "execution_count": 2,
      "outputs": [
        {
          "output_type": "stream",
          "name": "stdout",
          "text": [
            "arr1= [[1 2]\n",
            " [3 4]]\n",
            "arr2= [[5 6]\n",
            " [7 8]]\n",
            "after concatenation =\n",
            "[[1 2 5 6]\n",
            " [3 4 7 8]]\n"
          ]
        }
      ]
    },
    {
      "cell_type": "code",
      "metadata": {
        "colab": {
          "base_uri": "https://localhost:8080/"
        },
        "id": "IYi52R2l-K1H",
        "outputId": "fec64a77-5211-48ff-ae05-a7eaf7ea946d"
      },
      "source": [
        "import numpy as np\n",
        "\n",
        "arr1 = np.array([1, 2, 3])\n",
        "\n",
        "arr2 = np.array([4, 5, 6])\n",
        "\n",
        "arr = np.hstack((arr1, arr2))\n",
        "\n",
        "print(arr) "
      ],
      "execution_count": 3,
      "outputs": [
        {
          "output_type": "stream",
          "name": "stdout",
          "text": [
            "[1 2 3 4 5 6]\n"
          ]
        }
      ]
    },
    {
      "cell_type": "code",
      "metadata": {
        "colab": {
          "base_uri": "https://localhost:8080/"
        },
        "id": "N0rILPwu-fzL",
        "outputId": "eeb2fbe7-1ca6-456e-e4cd-2eea729d5c69"
      },
      "source": [
        "import numpy as np\n",
        "\n",
        "arr1 = np.array([1, 2, 3])\n",
        "\n",
        "arr2 = np.array([4, 5, 6])\n",
        "\n",
        "arr = np.vstack((arr1, arr2))\n",
        "\n",
        "print(arr) "
      ],
      "execution_count": 4,
      "outputs": [
        {
          "output_type": "stream",
          "name": "stdout",
          "text": [
            "[[1 2 3]\n",
            " [4 5 6]]\n"
          ]
        }
      ]
    },
    {
      "cell_type": "code",
      "metadata": {
        "colab": {
          "base_uri": "https://localhost:8080/"
        },
        "id": "vrzXpaGX-kUX",
        "outputId": "31dd68a8-6367-45f5-fa0e-53efa3c9d1cf"
      },
      "source": [
        "a = np.array([1,2,3])\n",
        "\n",
        "b = np.array([4,5,6])\n",
        "\n",
        "print(\"hstack =\", np.hstack((a,b)))\n",
        "\n",
        "print(\"vstack =\", np.vstack((a,b)))\n",
        "\n",
        "a = np.array([[1],[2],[3]])\n",
        "\n",
        "b = np.array([[4],[5],[6]])\n",
        "\n",
        "print(\"hstack =\", np.hstack((a,b)))\n",
        "\n",
        "print(\"vstack =\", np.vstack((a,b)))"
      ],
      "execution_count": 5,
      "outputs": [
        {
          "output_type": "stream",
          "name": "stdout",
          "text": [
            "hstack = [1 2 3 4 5 6]\n",
            "vstack = [[1 2 3]\n",
            " [4 5 6]]\n",
            "hstack = [[1 4]\n",
            " [2 5]\n",
            " [3 6]]\n",
            "vstack = [[1]\n",
            " [2]\n",
            " [3]\n",
            " [4]\n",
            " [5]\n",
            " [6]]\n"
          ]
        }
      ]
    },
    {
      "cell_type": "code",
      "metadata": {
        "colab": {
          "base_uri": "https://localhost:8080/"
        },
        "id": "aCVSMpDZ-p5T",
        "outputId": "5a83dbc1-37eb-4c5d-cdde-85e26829c6cc"
      },
      "source": [
        "a = np.array([[1,2,3],[11,22,33],[111,222,333],[1111,2222,3333]])\n",
        "\n",
        "b = np.array([[7,8,9],[77,88,99],[777,888,999],[7777,8888,9999]])\n",
        "\n",
        "print(\"\\nhstack =\\n\", np.hstack((a,b)))\n",
        "\n",
        "print(\"\\n======next print======\")\n",
        "\n",
        "print(\"\\nvstack =\\n\", np.vstack((a,b)))\n",
        "\n",
        "arr = np.concatenate((a, b), axis=0)\n",
        "\n",
        "print(\"\\n======next print======\")\n",
        "\n",
        "print(\"\\n concatenate at axis 0=\\n\",arr)\n",
        "\n",
        "arr1 = np.concatenate((a, b), axis=1)\n",
        "\n",
        "print(\"\\n======next print======\")\n",
        "\n",
        "print(\"\\n concatenate at axis 1=\\n\",arr1)"
      ],
      "execution_count": 6,
      "outputs": [
        {
          "output_type": "stream",
          "name": "stdout",
          "text": [
            "\n",
            "hstack =\n",
            " [[   1    2    3    7    8    9]\n",
            " [  11   22   33   77   88   99]\n",
            " [ 111  222  333  777  888  999]\n",
            " [1111 2222 3333 7777 8888 9999]]\n",
            "\n",
            "======next print======\n",
            "\n",
            "vstack =\n",
            " [[   1    2    3]\n",
            " [  11   22   33]\n",
            " [ 111  222  333]\n",
            " [1111 2222 3333]\n",
            " [   7    8    9]\n",
            " [  77   88   99]\n",
            " [ 777  888  999]\n",
            " [7777 8888 9999]]\n",
            "\n",
            "======next print======\n",
            "\n",
            " concatenate at axis 0=\n",
            " [[   1    2    3]\n",
            " [  11   22   33]\n",
            " [ 111  222  333]\n",
            " [1111 2222 3333]\n",
            " [   7    8    9]\n",
            " [  77   88   99]\n",
            " [ 777  888  999]\n",
            " [7777 8888 9999]]\n",
            "\n",
            "======next print======\n",
            "\n",
            " concatenate at axis 1=\n",
            " [[   1    2    3    7    8    9]\n",
            " [  11   22   33   77   88   99]\n",
            " [ 111  222  333  777  888  999]\n",
            " [1111 2222 3333 7777 8888 9999]]\n"
          ]
        }
      ]
    },
    {
      "cell_type": "code",
      "metadata": {
        "colab": {
          "base_uri": "https://localhost:8080/"
        },
        "id": "tMz9NHSP-u5Z",
        "outputId": "c7cdd664-0448-4c54-cbae-ff8727b452f4"
      },
      "source": [
        "a= np.array([[1, 2, 3], [4, 5, 6]])\n",
        "print(a)"
      ],
      "execution_count": 7,
      "outputs": [
        {
          "output_type": "stream",
          "name": "stdout",
          "text": [
            "[[1 2 3]\n",
            " [4 5 6]]\n"
          ]
        }
      ]
    },
    {
      "cell_type": "code",
      "metadata": {
        "colab": {
          "base_uri": "https://localhost:8080/"
        },
        "id": "jM2vz7Km-zFz",
        "outputId": "165c24dc-c1ad-485a-8be5-188ef391e755"
      },
      "source": [
        "b = np.array([7,8,9])\n",
        "print(b)"
      ],
      "execution_count": 8,
      "outputs": [
        {
          "output_type": "stream",
          "name": "stdout",
          "text": [
            "[7 8 9]\n"
          ]
        }
      ]
    },
    {
      "cell_type": "code",
      "metadata": {
        "colab": {
          "base_uri": "https://localhost:8080/"
        },
        "id": "jdoj3z_8-2Y9",
        "outputId": "07fe6be2-5459-4a45-93d9-7c99f626fe09"
      },
      "source": [
        "c = np.array([[7,8,9]])\n",
        "print(c)"
      ],
      "execution_count": 9,
      "outputs": [
        {
          "output_type": "stream",
          "name": "stdout",
          "text": [
            "[[7 8 9]]\n"
          ]
        }
      ]
    },
    {
      "cell_type": "code",
      "metadata": {
        "colab": {
          "base_uri": "https://localhost:8080/"
        },
        "id": "QeeNkIdx-97X",
        "outputId": "2ccec716-0d12-4d46-d911-c691582b4811"
      },
      "source": [
        "np.append(a,c, axis=0)"
      ],
      "execution_count": 10,
      "outputs": [
        {
          "output_type": "execute_result",
          "data": {
            "text/plain": [
              "array([[1, 2, 3],\n",
              "       [4, 5, 6],\n",
              "       [7, 8, 9]])"
            ]
          },
          "metadata": {},
          "execution_count": 10
        }
      ]
    },
    {
      "cell_type": "code",
      "metadata": {
        "colab": {
          "base_uri": "https://localhost:8080/"
        },
        "id": "rTVgOrd3_Dut",
        "outputId": "b0f07b91-5819-426c-c000-cdeae3bdd67c"
      },
      "source": [
        "import numpy as np\n",
        "a = np.array([1,2,3])\n",
        "b = np.array([5,6])\n",
        "np.concatenate((a,b))"
      ],
      "execution_count": 11,
      "outputs": [
        {
          "output_type": "execute_result",
          "data": {
            "text/plain": [
              "array([1, 2, 3, 5, 6])"
            ]
          },
          "metadata": {},
          "execution_count": 11
        }
      ]
    },
    {
      "cell_type": "code",
      "metadata": {
        "colab": {
          "base_uri": "https://localhost:8080/"
        },
        "id": "T9iLJRbN_LbY",
        "outputId": "06e6fca1-5b80-4c88-ecc5-0f443b1342b4"
      },
      "source": [
        "np.r_[a,b]"
      ],
      "execution_count": 12,
      "outputs": [
        {
          "output_type": "execute_result",
          "data": {
            "text/plain": [
              "array([1, 2, 3, 5, 6])"
            ]
          },
          "metadata": {},
          "execution_count": 12
        }
      ]
    },
    {
      "cell_type": "code",
      "metadata": {
        "colab": {
          "base_uri": "https://localhost:8080/"
        },
        "id": "RkXZakAa_QGr",
        "outputId": "788e8a22-feab-491e-ccd3-3c80bc067c18"
      },
      "source": [
        "a = np.array([1, 2,3])\n",
        "b = np.array([5, 6,7])\n",
        "np.stack([a,b]).reshape(-1)"
      ],
      "execution_count": 13,
      "outputs": [
        {
          "output_type": "execute_result",
          "data": {
            "text/plain": [
              "array([1, 2, 3, 5, 6, 7])"
            ]
          },
          "metadata": {},
          "execution_count": 13
        }
      ]
    },
    {
      "cell_type": "code",
      "metadata": {
        "colab": {
          "base_uri": "https://localhost:8080/"
        },
        "id": "y3dgicCN_UEm",
        "outputId": "2e6b3db9-bd83-4691-af3e-5e14a9eef0a9"
      },
      "source": [
        "a = np.array([1, 2,3])\n",
        "b = np.array([5, 6,7])\n",
        "np.stack([a,b])"
      ],
      "execution_count": 14,
      "outputs": [
        {
          "output_type": "execute_result",
          "data": {
            "text/plain": [
              "array([[1, 2, 3],\n",
              "       [5, 6, 7]])"
            ]
          },
          "metadata": {},
          "execution_count": 14
        }
      ]
    },
    {
      "cell_type": "code",
      "metadata": {
        "colab": {
          "base_uri": "https://localhost:8080/"
        },
        "id": "q4F6jpE2_Xv0",
        "outputId": "8be2ad9f-3cd9-490b-c7d4-10360aefc415"
      },
      "source": [
        "a = np.array([[1,2,3],[11,22,33],[111,222,333],[1111,2222,3333]])\n",
        "\n",
        "b = np.array([[7,8,9],[77,88,99],[777,888,999],[7777,8888,9999]])\n",
        "\n",
        "print(\"\\nhstack =\\n\", np.hstack((a,b)))\n",
        "\n",
        "print(\"\\n======next print======\")\n",
        "\n",
        "print(\"\\nvstack =\\n\", np.vstack((a,b)))"
      ],
      "execution_count": 15,
      "outputs": [
        {
          "output_type": "stream",
          "name": "stdout",
          "text": [
            "\n",
            "hstack =\n",
            " [[   1    2    3    7    8    9]\n",
            " [  11   22   33   77   88   99]\n",
            " [ 111  222  333  777  888  999]\n",
            " [1111 2222 3333 7777 8888 9999]]\n",
            "\n",
            "======next print======\n",
            "\n",
            "vstack =\n",
            " [[   1    2    3]\n",
            " [  11   22   33]\n",
            " [ 111  222  333]\n",
            " [1111 2222 3333]\n",
            " [   7    8    9]\n",
            " [  77   88   99]\n",
            " [ 777  888  999]\n",
            " [7777 8888 9999]]\n"
          ]
        }
      ]
    },
    {
      "cell_type": "code",
      "metadata": {
        "colab": {
          "base_uri": "https://localhost:8080/"
        },
        "id": "LWCrRpGs_hJ3",
        "outputId": "2c8acf4a-95e0-42df-e887-952b00d1d8b6"
      },
      "source": [
        "a = np.array([[1],[2],[3]])\n",
        "\n",
        "b = np.array([[8],[9],[10]])\n",
        "\n",
        "print(\"\\nhstack =\\n\", np.hstack((a,b)))\n",
        "\n",
        "print(\"\\n======next print======\")\n",
        "\n",
        "print(\"\\nvstack =\\n\", np.vstack((a,b)))"
      ],
      "execution_count": 16,
      "outputs": [
        {
          "output_type": "stream",
          "name": "stdout",
          "text": [
            "\n",
            "hstack =\n",
            " [[ 1  8]\n",
            " [ 2  9]\n",
            " [ 3 10]]\n",
            "\n",
            "======next print======\n",
            "\n",
            "vstack =\n",
            " [[ 1]\n",
            " [ 2]\n",
            " [ 3]\n",
            " [ 8]\n",
            " [ 9]\n",
            " [10]]\n"
          ]
        }
      ]
    },
    {
      "cell_type": "code",
      "metadata": {
        "colab": {
          "base_uri": "https://localhost:8080/"
        },
        "id": "0e8GxuO-_k3d",
        "outputId": "d3691587-06b0-40e8-bf28-f631038b8704"
      },
      "source": [
        "a = np.array([[1,2],[3,4]])\n",
        "\n",
        "b = np.array([[5,6],[7,8]])\n",
        "\n",
        "print(\"\\nhstack =\\n\", np.hstack((a,b)))\n",
        "\n",
        "print(\"\\n======next print======\")\n",
        "\n",
        "print(\"\\nvstack =\\n\", np.vstack((a,b)))"
      ],
      "execution_count": 17,
      "outputs": [
        {
          "output_type": "stream",
          "name": "stdout",
          "text": [
            "\n",
            "hstack =\n",
            " [[1 2 5 6]\n",
            " [3 4 7 8]]\n",
            "\n",
            "======next print======\n",
            "\n",
            "vstack =\n",
            " [[1 2]\n",
            " [3 4]\n",
            " [5 6]\n",
            " [7 8]]\n"
          ]
        }
      ]
    },
    {
      "cell_type": "code",
      "metadata": {
        "colab": {
          "base_uri": "https://localhost:8080/"
        },
        "id": "xQSB51s__qv9",
        "outputId": "0426bc7e-f7b5-4298-f9e0-dc3074c53cfb"
      },
      "source": [
        "import numpy as np\n",
        "a = np.array([[1, 2], [3, 4]])\n",
        "b = np.array([[5, 6]])\n",
        "np.concatenate((a, b), axis=0)"
      ],
      "execution_count": 18,
      "outputs": [
        {
          "output_type": "execute_result",
          "data": {
            "text/plain": [
              "array([[1, 2],\n",
              "       [3, 4],\n",
              "       [5, 6]])"
            ]
          },
          "metadata": {},
          "execution_count": 18
        }
      ]
    },
    {
      "cell_type": "code",
      "metadata": {
        "colab": {
          "base_uri": "https://localhost:8080/"
        },
        "id": "jbYFldGb_vdI",
        "outputId": "017e354e-b01e-45ca-d888-83763b394d67"
      },
      "source": [
        "np.vstack((a,b))"
      ],
      "execution_count": 19,
      "outputs": [
        {
          "output_type": "execute_result",
          "data": {
            "text/plain": [
              "array([[1, 2],\n",
              "       [3, 4],\n",
              "       [5, 6]])"
            ]
          },
          "metadata": {},
          "execution_count": 19
        }
      ]
    },
    {
      "cell_type": "code",
      "metadata": {
        "colab": {
          "base_uri": "https://localhost:8080/"
        },
        "id": "2nsWK-o-_3uj",
        "outputId": "f691c858-1f3c-459c-81c7-095bdac7f90d"
      },
      "source": [
        "np.concatenate((a, b.T), axis=1)"
      ],
      "execution_count": 20,
      "outputs": [
        {
          "output_type": "execute_result",
          "data": {
            "text/plain": [
              "array([[1, 2, 5],\n",
              "       [3, 4, 6]])"
            ]
          },
          "metadata": {},
          "execution_count": 20
        }
      ]
    },
    {
      "cell_type": "code",
      "metadata": {
        "colab": {
          "base_uri": "https://localhost:8080/"
        },
        "id": "94-MHcGR_-Q8",
        "outputId": "ccbb0b37-4ba0-488a-a01f-540e81265311"
      },
      "source": [
        "import numpy as np\n",
        "a = np.array([[1, 2], [3, 4]])\n",
        "b = np.array([5, 6])\n",
        "bb= np.array([[5, 6],[7,8]])\n",
        "cc=b.T\n",
        "\n",
        "print(\"vstack=\",np.vstack((a,cc)))\n",
        "\n",
        "print(\"hstack=\",np.hstack((a,bb)))"
      ],
      "execution_count": 21,
      "outputs": [
        {
          "output_type": "stream",
          "name": "stdout",
          "text": [
            "vstack= [[1 2]\n",
            " [3 4]\n",
            " [5 6]]\n",
            "hstack= [[1 2 5 6]\n",
            " [3 4 7 8]]\n"
          ]
        }
      ]
    },
    {
      "cell_type": "code",
      "metadata": {
        "colab": {
          "base_uri": "https://localhost:8080/"
        },
        "id": "LNyeR9rFADId",
        "outputId": "13425b6d-9c4b-4bc0-a7e6-a9f5062a42a4"
      },
      "source": [
        "a = np.array((1,2,3))\n",
        "b = np.array((7,8,9))\n",
        "print(a)\n",
        "print(b)\n",
        "\n",
        "print(\"vstack\\n\")\n",
        "print(np.vstack((a,b)))\n",
        "print(\"concatenate\\n\")\n",
        "print(np.concatenate([a.reshape(1,3),b.reshape(1,3)]))\n",
        "print(\"stack\\n\")\n",
        "print(np.stack((a,b),axis=1))\n",
        "print(\"concatenate\\n\")\n",
        "print(np.concatenate((a.reshape(1,3),b.reshape(1,3)),axis = 1))\n",
        "print(\"stack\\n\")\n",
        "print(np.stack((a,b),axis=0))\n",
        "print(\"concatenate\\n\")\n",
        "print(np.concatenate((a.reshape(1,3),b.reshape(1,3)),axis = 0))"
      ],
      "execution_count": 22,
      "outputs": [
        {
          "output_type": "stream",
          "name": "stdout",
          "text": [
            "[1 2 3]\n",
            "[7 8 9]\n",
            "vstack\n",
            "\n",
            "[[1 2 3]\n",
            " [7 8 9]]\n",
            "concatenate\n",
            "\n",
            "[[1 2 3]\n",
            " [7 8 9]]\n",
            "stack\n",
            "\n",
            "[[1 7]\n",
            " [2 8]\n",
            " [3 9]]\n",
            "concatenate\n",
            "\n",
            "[[1 2 3 7 8 9]]\n",
            "stack\n",
            "\n",
            "[[1 2 3]\n",
            " [7 8 9]]\n",
            "concatenate\n",
            "\n",
            "[[1 2 3]\n",
            " [7 8 9]]\n"
          ]
        }
      ]
    },
    {
      "cell_type": "code",
      "metadata": {
        "colab": {
          "base_uri": "https://localhost:8080/"
        },
        "id": "GKJqwAjLADAo",
        "outputId": "700f9d8b-1ee9-47bd-fb3d-4aaca07c02f4"
      },
      "source": [
        "#numpy split\n",
        "import numpy as np\n",
        "\n",
        "arr = np.array([1, 2, 3, 4, 5, 6])\n",
        "\n",
        "newarr = np.array_split(arr, 3)\n",
        "\n",
        "print(newarr) "
      ],
      "execution_count": 23,
      "outputs": [
        {
          "output_type": "stream",
          "name": "stdout",
          "text": [
            "[array([1, 2]), array([3, 4]), array([5, 6])]\n"
          ]
        }
      ]
    },
    {
      "cell_type": "code",
      "metadata": {
        "colab": {
          "base_uri": "https://localhost:8080/"
        },
        "id": "HFv5vi13AU7n",
        "outputId": "0fade193-aba6-4f68-ea7f-0207b669b383"
      },
      "source": [
        "import numpy as np\n",
        "\n",
        "arr = np.array([1, 2, 3, 4, 5, 6])\n",
        "\n",
        "newarr = np.array_split(arr, 3)\n",
        "\n",
        "print(newarr[0])\n",
        "print(newarr[1])\n",
        "print(newarr[2]) "
      ],
      "execution_count": 24,
      "outputs": [
        {
          "output_type": "stream",
          "name": "stdout",
          "text": [
            "[1 2]\n",
            "[3 4]\n",
            "[5 6]\n"
          ]
        }
      ]
    },
    {
      "cell_type": "code",
      "metadata": {
        "colab": {
          "base_uri": "https://localhost:8080/"
        },
        "id": "0vxTggVPAbj_",
        "outputId": "c5a710dc-f671-4364-e2a5-d4a9771cfaf3"
      },
      "source": [
        "import numpy as np\n",
        "\n",
        "arr = np.array([[1, 2], [3, 4], [5, 6], [7, 8], [9, 10], [11, 12]])\n",
        "\n",
        "newarr = np.array_split(arr, 3)\n",
        "print(\"\\n\")\n",
        "print(newarr[0])\n",
        "print(\"\\n\")\n",
        "print(newarr[1])\n",
        "print(\"\\n\")\n",
        "print(newarr[2]) "
      ],
      "execution_count": 25,
      "outputs": [
        {
          "output_type": "stream",
          "name": "stdout",
          "text": [
            "\n",
            "\n",
            "[[1 2]\n",
            " [3 4]]\n",
            "\n",
            "\n",
            "[[5 6]\n",
            " [7 8]]\n",
            "\n",
            "\n",
            "[[ 9 10]\n",
            " [11 12]]\n"
          ]
        }
      ]
    },
    {
      "cell_type": "code",
      "metadata": {
        "colab": {
          "base_uri": "https://localhost:8080/"
        },
        "id": "VTsaqZ3VAiMs",
        "outputId": "7407f127-554a-4a63-e7fa-5d1e96010fa8"
      },
      "source": [
        "import numpy as np\n",
        "\n",
        "arr = np.array([[1, 2], [3, 4], [5, 6], [7, 8], [9, 10], [11, 12]])\n",
        "\n",
        "newarr = np.array_split(arr, 4)\n",
        "print(\"\\n\")\n",
        "print(newarr[0])\n",
        "print(\"\\n\")\n",
        "print(newarr[1])\n",
        "print(\"\\n\")\n",
        "print(newarr[2])"
      ],
      "execution_count": 26,
      "outputs": [
        {
          "output_type": "stream",
          "name": "stdout",
          "text": [
            "\n",
            "\n",
            "[[1 2]\n",
            " [3 4]]\n",
            "\n",
            "\n",
            "[[5 6]\n",
            " [7 8]]\n",
            "\n",
            "\n",
            "[[ 9 10]]\n"
          ]
        }
      ]
    },
    {
      "cell_type": "code",
      "metadata": {
        "colab": {
          "base_uri": "https://localhost:8080/"
        },
        "id": "ZZaKm7C2Api2",
        "outputId": "56bae6f2-8d8d-4aee-e289-e74dd0984e0b"
      },
      "source": [
        "import numpy as np\n",
        "\n",
        "arr = np.array([[1, 2, 3], [4, 5, 6], [7, 8, 9], [10, 11, 12], [13, 14, 15], [16, 17, 18]])\n",
        "\n",
        "newarr = np.array_split(arr, 3)\n",
        "\n",
        "print(\"\\n\")\n",
        "print(newarr[0])\n",
        "print(\"\\n\")\n",
        "print(newarr[1])\n",
        "print(\"\\n\")\n",
        "print(newarr[2])"
      ],
      "execution_count": 27,
      "outputs": [
        {
          "output_type": "stream",
          "name": "stdout",
          "text": [
            "\n",
            "\n",
            "[[1 2 3]\n",
            " [4 5 6]]\n",
            "\n",
            "\n",
            "[[ 7  8  9]\n",
            " [10 11 12]]\n",
            "\n",
            "\n",
            "[[13 14 15]\n",
            " [16 17 18]]\n"
          ]
        }
      ]
    },
    {
      "cell_type": "code",
      "metadata": {
        "colab": {
          "base_uri": "https://localhost:8080/"
        },
        "id": "BRAwqMAMAu7h",
        "outputId": "816b705c-b076-4b14-a298-d635422c08b5"
      },
      "source": [
        "import numpy as np\n",
        "\n",
        "arr = np.array([[1, 2, 3], [4, 5, 6], [7, 8, 9], [10, 11, 12], [13, 14, 15], [16, 17, 18]])\n",
        "\n",
        "newarr = np.array_split(arr, 3, axis=1)\n",
        "\n",
        "print(\"\\n\")\n",
        "print(newarr[0])\n",
        "print(\"\\n\")\n",
        "print(newarr[1])\n",
        "print(\"\\n\")\n",
        "print(newarr[2])"
      ],
      "execution_count": 28,
      "outputs": [
        {
          "output_type": "stream",
          "name": "stdout",
          "text": [
            "\n",
            "\n",
            "[[ 1]\n",
            " [ 4]\n",
            " [ 7]\n",
            " [10]\n",
            " [13]\n",
            " [16]]\n",
            "\n",
            "\n",
            "[[ 2]\n",
            " [ 5]\n",
            " [ 8]\n",
            " [11]\n",
            " [14]\n",
            " [17]]\n",
            "\n",
            "\n",
            "[[ 3]\n",
            " [ 6]\n",
            " [ 9]\n",
            " [12]\n",
            " [15]\n",
            " [18]]\n"
          ]
        }
      ]
    },
    {
      "cell_type": "code",
      "metadata": {
        "colab": {
          "base_uri": "https://localhost:8080/"
        },
        "id": "GHdp2fL3Az8C",
        "outputId": "ddaf3308-6ea9-4399-82ac-a80efbe5f28d"
      },
      "source": [
        "import numpy as np\n",
        "\n",
        "arr = np.array([[1, 2, 3], [4, 5, 6], [7, 8, 9], [10, 11, 12], [13, 14, 15], [16, 17, 18]])\n",
        "\n",
        "newarr = np.hsplit(arr, 3)\n",
        "print(\"\\n\")\n",
        "print(newarr[0])\n",
        "print(\"\\n\")\n",
        "print(newarr[1])\n",
        "print(\"\\n\")\n",
        "print(newarr[2])"
      ],
      "execution_count": 29,
      "outputs": [
        {
          "output_type": "stream",
          "name": "stdout",
          "text": [
            "\n",
            "\n",
            "[[ 1]\n",
            " [ 4]\n",
            " [ 7]\n",
            " [10]\n",
            " [13]\n",
            " [16]]\n",
            "\n",
            "\n",
            "[[ 2]\n",
            " [ 5]\n",
            " [ 8]\n",
            " [11]\n",
            " [14]\n",
            " [17]]\n",
            "\n",
            "\n",
            "[[ 3]\n",
            " [ 6]\n",
            " [ 9]\n",
            " [12]\n",
            " [15]\n",
            " [18]]\n"
          ]
        }
      ]
    },
    {
      "cell_type": "code",
      "metadata": {
        "colab": {
          "base_uri": "https://localhost:8080/"
        },
        "id": "B-ilPDscA4OG",
        "outputId": "61e19c38-895b-490d-b68a-1537f54bab88"
      },
      "source": [
        "import numpy as np\n",
        "\n",
        "arr = np.array([[1, 2, 3], [4, 5, 6], [7, 8, 9], [10, 11, 12], [13, 14, 15], [16, 17, 18]])\n",
        "\n",
        "newarr = np.vsplit(arr, 3)\n",
        "print(\"\\n\")\n",
        "print(newarr[0])\n",
        "print(\"\\n\")\n",
        "print(newarr[1])\n",
        "print(\"\\n\")\n",
        "print(newarr[2])"
      ],
      "execution_count": 30,
      "outputs": [
        {
          "output_type": "stream",
          "name": "stdout",
          "text": [
            "\n",
            "\n",
            "[[1 2 3]\n",
            " [4 5 6]]\n",
            "\n",
            "\n",
            "[[ 7  8  9]\n",
            " [10 11 12]]\n",
            "\n",
            "\n",
            "[[13 14 15]\n",
            " [16 17 18]]\n"
          ]
        }
      ]
    },
    {
      "cell_type": "code",
      "metadata": {
        "colab": {
          "base_uri": "https://localhost:8080/"
        },
        "id": "-LxZ8JsIA-kO",
        "outputId": "47fa54ee-5b73-41e3-8a2f-2d3c6cd6d976"
      },
      "source": [
        "#Slicing in python means taking elements from one given index to another given index.\n",
        "#We pass slice instead of index like this: [start:end].\n",
        "#We can also define the step, like this: [start:end:step].\n",
        "#If we don't pass start its considered 0\n",
        "#If we don't pass end its considered length of array in that dimension\n",
        "#If we don't pass step its considered 1\n",
        "\n",
        "\n",
        "import numpy as np\n",
        "\n",
        "arr = np.array([1, 2, 3, 4, 5, 6, 7])\n",
        "\n",
        "print(arr[1:5]) "
      ],
      "execution_count": 31,
      "outputs": [
        {
          "output_type": "stream",
          "name": "stdout",
          "text": [
            "[2 3 4 5]\n"
          ]
        }
      ]
    },
    {
      "cell_type": "code",
      "metadata": {
        "colab": {
          "base_uri": "https://localhost:8080/"
        },
        "id": "lInaU4WtBD_B",
        "outputId": "2cd5d80f-9cd8-4c99-c310-674d42daef14"
      },
      "source": [
        "import numpy as np\n",
        "\n",
        "arr = np.array([1, 2, 3, 4, 5, 6, 7])\n",
        "\n",
        "print(arr[4:]) "
      ],
      "execution_count": 32,
      "outputs": [
        {
          "output_type": "stream",
          "name": "stdout",
          "text": [
            "[5 6 7]\n"
          ]
        }
      ]
    },
    {
      "cell_type": "code",
      "metadata": {
        "colab": {
          "base_uri": "https://localhost:8080/"
        },
        "id": "92UjYimABHZr",
        "outputId": "85a5aeaf-f5db-439d-f1de-d77983538bfd"
      },
      "source": [
        "import numpy as np\n",
        "\n",
        "arr = np.array([1, 2, 3, 4, 5, 6, 7])\n",
        "\n",
        "print(arr[:4]) "
      ],
      "execution_count": 33,
      "outputs": [
        {
          "output_type": "stream",
          "name": "stdout",
          "text": [
            "[1 2 3 4]\n"
          ]
        }
      ]
    },
    {
      "cell_type": "code",
      "metadata": {
        "colab": {
          "base_uri": "https://localhost:8080/"
        },
        "id": "cnTWegQHBLGe",
        "outputId": "a390459d-31a7-4a69-cced-2c917618fffd"
      },
      "source": [
        "import numpy as np\n",
        "\n",
        "arr = np.array([1, 2, 3, 4, 5, 6, 7])\n",
        "\n",
        "print(arr[-4:-1])"
      ],
      "execution_count": 34,
      "outputs": [
        {
          "output_type": "stream",
          "name": "stdout",
          "text": [
            "[4 5 6]\n"
          ]
        }
      ]
    },
    {
      "cell_type": "code",
      "metadata": {
        "colab": {
          "base_uri": "https://localhost:8080/"
        },
        "id": "FojYZYUHBOsr",
        "outputId": "d25b4c03-2a00-4549-e19d-c3fa59c4dda2"
      },
      "source": [
        "import numpy as np\n",
        "\n",
        "arr = np.array([1, 2, 3, 4, 5, 6, 7])\n",
        "\n",
        "print(arr[1:5:2]) "
      ],
      "execution_count": 35,
      "outputs": [
        {
          "output_type": "stream",
          "name": "stdout",
          "text": [
            "[2 4]\n"
          ]
        }
      ]
    },
    {
      "cell_type": "code",
      "metadata": {
        "colab": {
          "base_uri": "https://localhost:8080/"
        },
        "id": "COayVR4kBShU",
        "outputId": "2893480b-06eb-47f1-a378-750bb1790e1e"
      },
      "source": [
        "import numpy as np\n",
        "\n",
        "arr = np.array([1, 2, 3, 4, 5, 6, 7])\n",
        "\n",
        "print(arr[::2]) "
      ],
      "execution_count": 36,
      "outputs": [
        {
          "output_type": "stream",
          "name": "stdout",
          "text": [
            "[1 3 5 7]\n"
          ]
        }
      ]
    },
    {
      "cell_type": "code",
      "metadata": {
        "colab": {
          "base_uri": "https://localhost:8080/"
        },
        "id": "BR1zuP6EBWUa",
        "outputId": "27ef620d-a897-450f-b0a6-b687fca9297b"
      },
      "source": [
        "import numpy as np\n",
        "\n",
        "arr = np.array([[1, 2, 3, 4, 5], [6, 7, 8, 9, 10]])\n",
        "\n",
        "print(arr[1, 1:4]) "
      ],
      "execution_count": 37,
      "outputs": [
        {
          "output_type": "stream",
          "name": "stdout",
          "text": [
            "[7 8 9]\n"
          ]
        }
      ]
    },
    {
      "cell_type": "code",
      "metadata": {
        "colab": {
          "base_uri": "https://localhost:8080/"
        },
        "id": "F9FTTrKkBZwS",
        "outputId": "a9c0979b-b799-4c01-c8be-2f8a3c31b2f8"
      },
      "source": [
        "import numpy as np\n",
        "\n",
        "arr = np.array([[1, 2, 3, 4, 5], [6, 7, 8, 9, 10],[11,12,13,14,15]])\n",
        "\n",
        "print(arr[2,0:2]) "
      ],
      "execution_count": 38,
      "outputs": [
        {
          "output_type": "stream",
          "name": "stdout",
          "text": [
            "[11 12]\n"
          ]
        }
      ]
    },
    {
      "cell_type": "code",
      "metadata": {
        "colab": {
          "base_uri": "https://localhost:8080/"
        },
        "id": "lSc28JbfBckD",
        "outputId": "a6b49f8d-545b-44a1-eeb6-132e3444194c"
      },
      "source": [
        "import numpy as np\n",
        "\n",
        "arr = np.array([[1, 2, 3, 4, 5], [6, 7, 8, 9, 10],[22,33,44,55,66]])\n",
        "\n",
        "print(arr[0:3, 2]) #from both elements of array, return the value present at index 2"
      ],
      "execution_count": 39,
      "outputs": [
        {
          "output_type": "stream",
          "name": "stdout",
          "text": [
            "[ 3  8 44]\n"
          ]
        }
      ]
    },
    {
      "cell_type": "code",
      "metadata": {
        "colab": {
          "base_uri": "https://localhost:8080/"
        },
        "id": "-myOiqllBiCk",
        "outputId": "66e357c7-0dfe-40ca-8a2a-fb719fa60d0e"
      },
      "source": [
        "import numpy as np\n",
        "\n",
        "arr = np.array([[1, 2, 3, 4, 5], [6, 7, 8, 9, 10]])\n",
        "\n",
        "print(arr[0:2, 1:4]) "
      ],
      "execution_count": 40,
      "outputs": [
        {
          "output_type": "stream",
          "name": "stdout",
          "text": [
            "[[2 3 4]\n",
            " [7 8 9]]\n"
          ]
        }
      ]
    },
    {
      "cell_type": "code",
      "metadata": {
        "colab": {
          "base_uri": "https://localhost:8080/"
        },
        "id": "aUABUCM5T4o0",
        "outputId": "b2fed4c7-4c00-4ca2-8291-fa22bda44694"
      },
      "source": [
        "#array\n",
        "import numpy as np\n",
        "\n",
        "arr = np.array([1, 2, 3, 4, 5, 4, 4])\n",
        "\n",
        "x = np.where(arr == 4)\n",
        "\n",
        "print(x) "
      ],
      "execution_count": 41,
      "outputs": [
        {
          "output_type": "stream",
          "name": "stdout",
          "text": [
            "(array([3, 5, 6]),)\n"
          ]
        }
      ]
    },
    {
      "cell_type": "code",
      "metadata": {
        "colab": {
          "base_uri": "https://localhost:8080/"
        },
        "id": "Lo312GRtT8Vw",
        "outputId": "bdebfbfa-d0c1-4ec5-9f8a-2773583c8acd"
      },
      "source": [
        "import numpy as np\n",
        "\n",
        "arr = np.array([1, 2, 3, 4, 5, 6, 7, 8])\n",
        "\n",
        "x = np.where(arr%2 == 0)\n",
        "\n",
        "print(x) "
      ],
      "execution_count": 43,
      "outputs": [
        {
          "output_type": "stream",
          "name": "stdout",
          "text": [
            "(array([1, 3, 5, 7]),)\n"
          ]
        }
      ]
    },
    {
      "cell_type": "code",
      "metadata": {
        "colab": {
          "base_uri": "https://localhost:8080/"
        },
        "id": "fV8enorTUE5G",
        "outputId": "8c90f00f-15a3-4e9f-ce06-195e41e14611"
      },
      "source": [
        "import numpy as np\n",
        "\n",
        "arr = np.array([1, 2, 3, 4, 5, 6, 7, 8])\n",
        "\n",
        "x = np.where(arr%2 == 1)\n",
        "\n",
        "print(x) "
      ],
      "execution_count": 44,
      "outputs": [
        {
          "output_type": "stream",
          "name": "stdout",
          "text": [
            "(array([0, 2, 4, 6]),)\n"
          ]
        }
      ]
    },
    {
      "cell_type": "code",
      "metadata": {
        "colab": {
          "base_uri": "https://localhost:8080/"
        },
        "id": "G6Pg_PBHUH2W",
        "outputId": "fdd956fa-1926-4254-c493-bc03f93ceb85"
      },
      "source": [
        "#The number 7 should be inserted on index 1 to remain the sort order.\n",
        "#The method starts the search from the left and returns the first index where the number 7 is no longer larger than the next value.\n",
        "\n",
        "import numpy as np\n",
        "\n",
        "arr = np.array([6, 7, 18, 19])\n",
        "\n",
        "x = np.searchsorted(arr,11)\n",
        "\n",
        "print(x) "
      ],
      "execution_count": 45,
      "outputs": [
        {
          "output_type": "stream",
          "name": "stdout",
          "text": [
            "2\n"
          ]
        }
      ]
    },
    {
      "cell_type": "code",
      "metadata": {
        "colab": {
          "base_uri": "https://localhost:8080/"
        },
        "id": "RewUO1XJULhl",
        "outputId": "738a8e52-2b03-4791-ad68-8f38f3323d07"
      },
      "source": [
        "import numpy as np\n",
        "\n",
        "arr = np.array([6, 7, 18, 29])\n",
        "\n",
        "x = np.searchsorted(arr, 19, side='right')\n",
        "\n",
        "print(x) "
      ],
      "execution_count": 46,
      "outputs": [
        {
          "output_type": "stream",
          "name": "stdout",
          "text": [
            "3\n"
          ]
        }
      ]
    },
    {
      "cell_type": "code",
      "metadata": {
        "colab": {
          "base_uri": "https://localhost:8080/"
        },
        "id": "rKtsNLfdUQTc",
        "outputId": "bb24ae85-1528-4e09-a176-93737297c7cb"
      },
      "source": [
        "import numpy as np\n",
        "\n",
        "arr = np.array([1, 3, 5, 7])\n",
        "\n",
        "x = np.searchsorted(arr, [2, 4, 6])\n",
        "\n",
        "print(x) "
      ],
      "execution_count": 47,
      "outputs": [
        {
          "output_type": "stream",
          "name": "stdout",
          "text": [
            "[1 2 3]\n"
          ]
        }
      ]
    }
  ]
}